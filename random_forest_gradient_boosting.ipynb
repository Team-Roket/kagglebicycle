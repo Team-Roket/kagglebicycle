{
 "cells": [
  {
   "cell_type": "code",
   "execution_count": 1,
   "metadata": {
    "collapsed": false
   },
   "outputs": [
    {
     "name": "stdout",
     "output_type": "stream",
     "text": [
      "Populating the interactive namespace from numpy and matplotlib\n",
      "a\n"
     ]
    }
   ],
   "source": [
    "# Importing libraries\n",
    "%pylab inline"
   ]
  },
  {
   "cell_type": "code",
   "execution_count": 2,
   "metadata": {
    "collapsed": false
   },
   "outputs": [],
   "source": [
    "import pandas as pd\n",
    "import numpy as np\n",
    "from sklearn.ensemble import RandomForestRegressor, GradientBoostingRegressor"
   ]
  },
  {
   "cell_type": "code",
   "execution_count": 3,
   "metadata": {
    "collapsed": false
   },
   "outputs": [],
   "source": [
    "# read data, combine train and test data,separate time information\n",
    "dfs = {}\n",
    "for name in ['train', 'test']:\n",
    "#     df = pd.read_csv('C:\\Users/Administrator/Desktop/Kaggle/data/%s.csv' % name)\n",
    "    df = pd.read_csv('Data/%s.csv' %name)\n",
    "    df['_data'] = name\n",
    "    dfs[name] = df\n",
    "\n",
    "df = dfs['train'].append(dfs['test'])\n",
    "\n",
    "dt = pd.DatetimeIndex(df['dteday'])\n",
    "df['day'] = dt.day\n",
    "df['dow'] = dt.dayofweek\n",
    "df['woy'] = dt.weekofyear"
   ]
  },
  {
   "cell_type": "code",
   "execution_count": 4,
   "metadata": {
    "collapsed": false
   },
   "outputs": [],
   "source": [
    "# logarithmic transformation to do error calculation\n",
    "df['cnt_log'] = np.log(df['cnt'] + 1)\n",
    "\n",
    "# add a by_season_all column which represents all renting bikes by season\n",
    "by_season = df[df['_data'] == 'train'].groupby('season')[['cnt']].agg(sum)\n",
    "by_season.columns = ['by_season_all']\n",
    "df = df.join(by_season, on='season')"
   ]
  },
  {
   "cell_type": "code",
   "execution_count": 2,
   "metadata": {
    "collapsed": false
   },
   "outputs": [
    {
     "ename": "NameError",
     "evalue": "name 'df' is not defined",
     "output_type": "error",
     "traceback": [
      "\u001b[0;31m---------------------------------------------------------------------------\u001b[0m",
      "\u001b[0;31mNameError\u001b[0m                                 Traceback (most recent call last)",
      "\u001b[0;32m<ipython-input-2-4de7026acab0>\u001b[0m in \u001b[0;36m<module>\u001b[0;34m()\u001b[0m\n\u001b[1;32m      1\u001b[0m \u001b[0;31m# add another feature discussed before, it shows peaks of bike-renting number\u001b[0m\u001b[0;34m\u001b[0m\u001b[0;34m\u001b[0m\u001b[0m\n\u001b[0;32m----> 2\u001b[0;31m \u001b[0mdf\u001b[0m\u001b[0;34m[\u001b[0m\u001b[0;34m'peak'\u001b[0m\u001b[0;34m]\u001b[0m \u001b[0;34m=\u001b[0m \u001b[0mdf\u001b[0m\u001b[0;34m[\u001b[0m\u001b[0;34m[\u001b[0m\u001b[0;34m'hr'\u001b[0m\u001b[0;34m,\u001b[0m \u001b[0;34m'workingday'\u001b[0m\u001b[0;34m]\u001b[0m\u001b[0;34m]\u001b[0m\u001b[0;34m.\u001b[0m\u001b[0mapply\u001b[0m\u001b[0;34m(\u001b[0m\u001b[0;32mlambda\u001b[0m \u001b[0mx\u001b[0m\u001b[0;34m:\u001b[0m \u001b[0;34m(\u001b[0m\u001b[0;36m0\u001b[0m\u001b[0;34m,\u001b[0m \u001b[0;36m1\u001b[0m\u001b[0;34m)\u001b[0m\u001b[0;34m[\u001b[0m\u001b[0;34m(\u001b[0m\u001b[0mx\u001b[0m\u001b[0;34m[\u001b[0m\u001b[0;34m'workingday'\u001b[0m\u001b[0;34m]\u001b[0m \u001b[0;34m==\u001b[0m \u001b[0;36m1\u001b[0m \u001b[0;32mand\u001b[0m  \u001b[0;34m(\u001b[0m \u001b[0mx\u001b[0m\u001b[0;34m[\u001b[0m\u001b[0;34m'hr'\u001b[0m\u001b[0;34m]\u001b[0m \u001b[0;34m==\u001b[0m \u001b[0;36m8\u001b[0m \u001b[0;32mor\u001b[0m \u001b[0;36m17\u001b[0m \u001b[0;34m<=\u001b[0m \u001b[0mx\u001b[0m\u001b[0;34m[\u001b[0m\u001b[0;34m'hr'\u001b[0m\u001b[0;34m]\u001b[0m \u001b[0;34m<=\u001b[0m \u001b[0;36m18\u001b[0m \u001b[0;32mor\u001b[0m \u001b[0;36m12\u001b[0m \u001b[0;34m<=\u001b[0m \u001b[0mx\u001b[0m\u001b[0;34m[\u001b[0m\u001b[0;34m'hr'\u001b[0m\u001b[0;34m]\u001b[0m \u001b[0;34m<=\u001b[0m \u001b[0;36m12\u001b[0m\u001b[0;34m)\u001b[0m\u001b[0;34m)\u001b[0m \u001b[0;32mor\u001b[0m \u001b[0;34m(\u001b[0m\u001b[0mx\u001b[0m\u001b[0;34m[\u001b[0m\u001b[0;34m'workingday'\u001b[0m\u001b[0;34m]\u001b[0m \u001b[0;34m==\u001b[0m \u001b[0;36m0\u001b[0m \u001b[0;32mand\u001b[0m  \u001b[0;36m10\u001b[0m \u001b[0;34m<=\u001b[0m \u001b[0mx\u001b[0m\u001b[0;34m[\u001b[0m\u001b[0;34m'hr'\u001b[0m\u001b[0;34m]\u001b[0m \u001b[0;34m<=\u001b[0m \u001b[0;36m19\u001b[0m\u001b[0;34m)\u001b[0m\u001b[0;34m]\u001b[0m\u001b[0;34m,\u001b[0m \u001b[0maxis\u001b[0m \u001b[0;34m=\u001b[0m \u001b[0;36m1\u001b[0m\u001b[0;34m)\u001b[0m\u001b[0;34m\u001b[0m\u001b[0m\n\u001b[0m\u001b[1;32m      3\u001b[0m \u001b[0;34m\u001b[0m\u001b[0m\n\u001b[1;32m      4\u001b[0m \u001b[0;31m# add features to show special climate, this idea is from a blog\u001b[0m\u001b[0;34m\u001b[0m\u001b[0;34m\u001b[0m\u001b[0m\n\u001b[1;32m      5\u001b[0m \u001b[0mdf\u001b[0m\u001b[0;34m[\u001b[0m\u001b[0;34m'ideal'\u001b[0m\u001b[0;34m]\u001b[0m \u001b[0;34m=\u001b[0m \u001b[0mdf\u001b[0m\u001b[0;34m[\u001b[0m\u001b[0;34m[\u001b[0m\u001b[0;34m'temp'\u001b[0m\u001b[0;34m,\u001b[0m \u001b[0;34m'windspeed'\u001b[0m\u001b[0;34m]\u001b[0m\u001b[0;34m]\u001b[0m\u001b[0;34m.\u001b[0m\u001b[0mapply\u001b[0m\u001b[0;34m(\u001b[0m\u001b[0;32mlambda\u001b[0m \u001b[0mx\u001b[0m\u001b[0;34m:\u001b[0m \u001b[0;34m(\u001b[0m\u001b[0;36m0\u001b[0m\u001b[0;34m,\u001b[0m \u001b[0;36m1\u001b[0m\u001b[0;34m)\u001b[0m\u001b[0;34m[\u001b[0m\u001b[0mx\u001b[0m\u001b[0;34m[\u001b[0m\u001b[0;34m'temp'\u001b[0m\u001b[0;34m]\u001b[0m \u001b[0;34m>\u001b[0m \u001b[0;36m0.6\u001b[0m \u001b[0;32mand\u001b[0m \u001b[0mx\u001b[0m\u001b[0;34m[\u001b[0m\u001b[0;34m'windspeed'\u001b[0m\u001b[0;34m]\u001b[0m \u001b[0;34m<\u001b[0m \u001b[0;36m0.44778\u001b[0m\u001b[0;34m]\u001b[0m\u001b[0;34m,\u001b[0m \u001b[0maxis\u001b[0m \u001b[0;34m=\u001b[0m \u001b[0;36m1\u001b[0m\u001b[0;34m)\u001b[0m\u001b[0;34m\u001b[0m\u001b[0m\n",
      "\u001b[0;31mNameError\u001b[0m: name 'df' is not defined"
     ]
    }
   ],
   "source": [
    "# add another feature discussed before, it shows peaks of bike-renting number\n",
    "df['peak'] = df[['hr', 'workingday']].apply(lambda x: (0, 1)[(x['workingday'] == 1 and  ( x['hr'] == 8 or 17 <= x['hr'] <= 18 or 12 <= x['hr'] <= 12)) or (x['workingday'] == 0 and  10 <= x['hr'] <= 19)], axis = 1)\n",
    "\n",
    "# add features to show special climate, this idea is from a blog \n",
    "df['ideal'] = df[['temp', 'windspeed']].apply(lambda x: (0, 1)[x['temp'] > 0.6 and x['windspeed'] < 0.44778], axis = 1)\n",
    "df['wet'] = df[['hum', 'workingday']].apply(lambda x: (0, 1)[x['workingday'] == 1 and x['hum'] >= 0.6], axis = 1)\n",
    "\n",
    "## OKAY WEATHER DOES NOT WORK\n",
    "# test for mutual exclusiveness for weathersit\n",
    "df['w1'] = df[['weathersit']].apply(lambda x: (0,1)[x['weathersit'] == 1],axis = 1)\n",
    "df['w2'] = df[['weathersit']].apply(lambda x: (0,1)[x['weathersit'] == 2],axis = 1)\n",
    "df['w3'] = df[['weathersit']].apply(lambda x: (0,1)[x['weathersit'] == 3],axis = 1)\n",
    "df['w4'] = df[['weathersit']].apply(lambda x: (0,1)[x['weathersit'] == 4],axis = 1)\n",
    "\n",
    "## OKAY SEASONS DO NOT WORK EITHER\n",
    "# test for mutual exclusiveness for seasons\n",
    "df['s1'] = df[['season']].apply(lambda x: (0,1)[x['season'] == 1],axis = 1)\n",
    "df['s2'] = df[['season']].apply(lambda x: (0,1)[x['season'] == 2],axis = 1)\n",
    "df['s3'] = df[['season']].apply(lambda x: (0,1)[x['season'] == 3],axis = 1)\n",
    "df['s4'] = df[['season']].apply(lambda x: (0,1)[x['season'] == 4],axis = 1)"
   ]
  },
  {
   "cell_type": "code",
   "execution_count": 1,
   "metadata": {
    "collapsed": false
   },
   "outputs": [
    {
     "ename": "NameError",
     "evalue": "name 'df' is not defined",
     "output_type": "error",
     "traceback": [
      "\u001b[0;31m---------------------------------------------------------------------------\u001b[0m",
      "\u001b[0;31mNameError\u001b[0m                                 Traceback (most recent call last)",
      "\u001b[0;32m<ipython-input-1-af49aafef3c8>\u001b[0m in \u001b[0;36m<module>\u001b[0;34m()\u001b[0m\n\u001b[1;32m     31\u001b[0m     \u001b[0;32mreturn\u001b[0m \u001b[0;34m(\u001b[0m\u001b[0my_pred_last\u001b[0m\u001b[0;34m,\u001b[0m \u001b[0my_test_last\u001b[0m\u001b[0;34m,\u001b[0m \u001b[0mscore\u001b[0m\u001b[0;34m)\u001b[0m\u001b[0;34m\u001b[0m\u001b[0m\n\u001b[1;32m     32\u001b[0m \u001b[0;34m\u001b[0m\u001b[0m\n\u001b[0;32m---> 33\u001b[0;31m \u001b[0mdf_test\u001b[0m \u001b[0;34m=\u001b[0m \u001b[0mdf\u001b[0m\u001b[0;34m[\u001b[0m\u001b[0mdf\u001b[0m\u001b[0;34m[\u001b[0m\u001b[0;34m'_data'\u001b[0m\u001b[0;34m]\u001b[0m \u001b[0;34m==\u001b[0m \u001b[0;34m'test'\u001b[0m\u001b[0;34m]\u001b[0m\u001b[0;34m.\u001b[0m\u001b[0mcopy\u001b[0m\u001b[0;34m(\u001b[0m\u001b[0;34m)\u001b[0m\u001b[0;34m\u001b[0m\u001b[0m\n\u001b[0m\u001b[1;32m     34\u001b[0m \u001b[0;34m\u001b[0m\u001b[0m\n\u001b[1;32m     35\u001b[0m \u001b[0;32mdef\u001b[0m \u001b[0mpredict_on_test_set\u001b[0m\u001b[0;34m(\u001b[0m\u001b[0mmodel\u001b[0m\u001b[0;34m,\u001b[0m \u001b[0minput_cols\u001b[0m\u001b[0;34m)\u001b[0m\u001b[0;34m:\u001b[0m\u001b[0;34m\u001b[0m\u001b[0m\n",
      "\u001b[0;31mNameError\u001b[0m: name 'df' is not defined"
     ]
    }
   ],
   "source": [
    "def get_data():\n",
    "    data = df[df['_data'] == 'train'].copy()\n",
    "    return data\n",
    "\n",
    "def get_error(y_pred, y_actual):\n",
    "    difference = np.log(y_pred + 1) - np.log(y_actual + 1)\n",
    "    mean_error = np.square(difference).mean()\n",
    "    return np.sqrt(mean_error)\n",
    "\n",
    "def get_feature_and_result(data, input_cols):\n",
    "    X = data[input_cols].as_matrix()\n",
    "    y = data['cnt_log'].as_matrix()\n",
    "    return X, y\n",
    "def train_test_split(data):\n",
    "    train = data[data['day'] <= 14]\n",
    "    test = data[data['day'] > 14 ]\n",
    "    return train, test\n",
    "\n",
    "# similar functions have been given during the lab\n",
    "def predict_on_validation_set(model, input_cols):\n",
    "    data = get_data()\n",
    "    train, test = train_test_split(data)\n",
    "    X_train, y_train = get_feature_and_result(train, input_cols)\n",
    "    X_test, y_test = get_feature_and_result(test, input_cols)\n",
    "    my_model = model.fit(X_train, y_train)\n",
    "    y_pred = np.exp(my_model.predict(X_test))-1\n",
    "    y_pred_last = np.round(y_pred)\n",
    "    y_pred_last[y_pred_last < 0] = 0\n",
    "    y_test_last = np.exp(y_test)-1\n",
    "    score = get_error(y_pred_last, y_test_last)\n",
    "    return (y_pred_last, y_test_last, score)\n",
    "\n",
    "df_test = df[df['_data'] == 'test'].copy()\n",
    "\n",
    "def predict_on_test_set(model, input_cols):\n",
    "    df_train = df[df['_data'] == 'train'].copy()\n",
    "    X_train = df_train[input_cols].as_matrix()\n",
    "    y_train = df_train['cnt_log'].as_matrix()\n",
    "    X_test = df_test[input_cols].as_matrix()\n",
    "    my_model = model.fit(X_train, y_train)\n",
    "    y_pred = my_model.predict(X_test)\n",
    "    y_pred = np.exp(y_pred)-1\n",
    "    return y_pred\n",
    "\n",
    "def scoring_on_validation_set(model, input_cols):\n",
    "    pred = []\n",
    "    data = get_data()\n",
    "    train, test = train_test_split(data)\n",
    "    \n",
    "    X_train, y_train = get_feature_and_result(train, input_cols)\n",
    "    X_test, y_test = get_feature_and_result(test, input_cols)\n",
    "#     my_model = model.fit(X_train, y_train)\n",
    "    \n",
    "    cv = cross_validation.ShuffleSplit(n=len(train),n_iter=10, random_state=0)\n",
    "\n",
    "    scores_shuffle = np.abs(cross_validation.cross_val_score(model, X_train, y_train, cv=cv))\n",
    "    scores_shuffle_MAE = np.abs(cross_validation.cross_val_score(model, X_train, y_train, cv=cv, scoring = 'mean_absolute_error'))\n",
    "    scores_shuffle_MSE = np.abs(cross_validation.cross_val_score(model, X_train, y_train, cv=cv, scoring = 'mean_squared_error'))\n",
    "    scores_shuffle_MedianAE = np.abs(cross_validation.cross_val_score(model, X_train, y_train, cv=cv, scoring = 'median_absolute_error'))\n",
    "\n",
    "    print(\"R2 Accuracy: %0.2f (+/- %0.2f)\" % (scores_shuffle.mean(), scores_shuffle.std() * 2))\n",
    "    print(\"MAE Accuracy: %0.2f (+/- %0.2f)\" % (scores_shuffle_MAE.mean(), scores_shuffle_MAE.std() * 2))\n",
    "    print(\"MSE Accuracy: %0.2f (+/- %0.2f)\" % (scores_shuffle_MSE.mean(), scores_shuffle_MSE.std() * 2))\n",
    "    print(\"MedianAE Accuracy: %0.2f (+/- %0.2f)\" % (scores_shuffle_MedianAE.mean(), scores_shuffle_MedianAE.std() * 2))\n"
   ]
  },
  {
   "cell_type": "code",
   "execution_count": 7,
   "metadata": {
    "collapsed": false
   },
   "outputs": [
    {
     "name": "stdout",
     "output_type": "stream",
     "text": [
      "0.328202097292\n",
      "0.434502579521\n",
      "0.327785342162\n",
      "0.328934936078\n",
      "0.328824642471\n",
      "a\n",
      "b\n",
      "c\n",
      "d\n",
      "e\n",
      "R2 Accuracy: 0.95 (+/- 0.01)\n",
      "MAE Accuracy: 0.21 (+/- 0.01)\n",
      "MSE Accuracy: 0.10 (+/- 0.02)\n",
      "MedianAE Accuracy: 0.13 (+/- 0.01)\n",
      "None\n"
     ]
    }
   ],
   "source": [
    "# do a random forest regression\n",
    "parameters = {'n_estimators': 1000, 'max_depth': 15, 'random_state': 0, 'min_samples_split' : 5, 'n_jobs': -1}\n",
    "rf_model = RandomForestRegressor(**parameters)\n",
    "\n",
    "rf_cols = [\n",
    "    'weathersit', 'temp', 'wet', 'ideal', \n",
    "    'holiday', 'workingday', 'season', \n",
    "    'hr', 'dow', 'yr','mnth','woy'\n",
    "]\n",
    "\n",
    "rf_cols1 = [\n",
    "    'weathersit', 'temp', 'atemp', 'windspeed',\n",
    "    'workingday', 'season', 'holiday', 'wet',\n",
    "    'hr', 'dow', 'woy', 'peak'\n",
    "]\n",
    "\n",
    "\n",
    "# Split weather into 4\n",
    "rf_cols2 = [\n",
    "    'w1', 'w1','w3','w4', 'temp', 'wet', 'ideal', \n",
    "    'holiday', 'workingday', 'season', \n",
    "    'hr', 'dow', 'yr','mnth','woy'\n",
    "]\n",
    "# Split seasons into 3\n",
    "rf_cols3 = [\n",
    "    'weathersit', 'temp', 'wet', 'ideal', \n",
    "    'holiday', 'workingday', 's1', 's2', 's3', 's4', \n",
    "    'hr', 'dow', 'yr','mnth','woy'\n",
    "]\n",
    "# Split both\n",
    "rf_cols4= [\n",
    "    'w1', 'w1','w3','w4', 'temp', 'wet', 'ideal', \n",
    "    'holiday', 'workingday','s1', 's2', 's3', 's4' , \n",
    "    'hr', 'dow', 'yr','mnth','woy'\n",
    "]\n",
    "\n",
    "\n",
    "(rf_p, rf_t, rf_score) = predict_on_validation_set(rf_model, rf_cols)\n",
    "(rf_p, rf_t, rf_score1) = predict_on_validation_set(rf_model, rf_cols1)\n",
    "(rf_p, rf_t, rf_score2) = predict_on_validation_set(rf_model, rf_cols2)\n",
    "(rf_p, rf_t, rf_score3) = predict_on_validation_set(rf_model, rf_cols3)\n",
    "(rf_p, rf_t, rf_score4) = predict_on_validation_set(rf_model, rf_cols4)\n",
    "print rf_score\n",
    "print rf_score1\n",
    "print rf_score2\n",
    "print rf_score3\n",
    "print rf_score4\n",
    "\n",
    "from sklearn import linear_model, preprocessing, grid_search, cross_validation, metrics\n",
    "print(scoring_on_validation_set(rf_model, rf_cols))"
   ]
  },
  {
   "cell_type": "code",
   "execution_count": 8,
   "metadata": {
    "collapsed": false
   },
   "outputs": [
    {
     "name": "stdout",
     "output_type": "stream",
     "text": [
      "a\n",
      "b\n",
      "c\n",
      "d\n",
      "e\n",
      "R2 Accuracy: 0.96 (+/- 0.01)\n",
      "MAE Accuracy: 0.19 (+/- 0.01)\n",
      "MSE Accuracy: 0.08 (+/- 0.01)\n",
      "MedianAE Accuracy: 0.13 (+/- 0.01)\n"
     ]
    }
   ],
   "source": [
    "# do a gradient boosting regression\n",
    "parameters = {'n_estimators': 150, 'max_depth': 5, 'random_state': 0, 'min_samples_leaf' : 10, 'learning_rate': 0.1, 'subsample': 0.7, 'loss': 'ls'}\n",
    "gb_model = GradientBoostingRegressor(**parameters)\n",
    "gb_cols = [\n",
    "    'weathersit', 'temp', 'windspeed', 'wet',\n",
    "    'holiday', 'workingday', \n",
    "    'hr', 'dow', 'yr', 'ideal', 'by_season_all','mnth','woy'\n",
    "    ]\n",
    "\n",
    "gb_cols1 = [\n",
    "    'weathersit', 'temp', 'atemp', 'hum', 'windspeed',\n",
    "    'holiday', 'workingday', 'season',\n",
    "    'hr', 'dow', 'yr', 'ideal', 'by_season_all',\n",
    "]\n",
    "\n",
    "# Split weather into 4\n",
    "gb_cols2 = [\n",
    "    'w1', 'w1','w3','w4', 'temp', 'wet', 'ideal', \n",
    "    'holiday', 'workingday', 'season', \n",
    "    'hr', 'dow', 'yr','mnth','woy'\n",
    "]\n",
    "# Split seasons into 3\n",
    "gb_cols3 = [\n",
    "    'weathersit', 'temp', 'wet', 'ideal', \n",
    "    'holiday', 'workingday', 's1', 's2', 's3', 's4', \n",
    "    'hr', 'dow', 'yr','mnth','woy'\n",
    "]\n",
    "# Split both\n",
    "gb_cols4= [\n",
    "    'w1', 'w1','w3','w4', 'temp', 'wet', 'ideal', \n",
    "    'holiday', 'workingday','s1', 's2', 's3', 's4' , \n",
    "    'hr', 'dow', 'yr','mnth','woy'\n",
    "]\n",
    "\n",
    "\n",
    "# (gb_p, gb_t, gb_score) = predict_on_validation_set(gb_model, gb_cols)\n",
    "# (gb_p, gb_t, gb_score1) = predict_on_validation_set(gb_model, gb_cols1)\n",
    "# (gb_p, gb_t, gb_score2) = predict_on_validation_set(gb_model, gb_cols2)\n",
    "# (gb_p, gb_t, gb_score3) = predict_on_validation_set(gb_model, gb_cols3)\n",
    "# (gb_p, gb_t, gb_score4) = predict_on_validation_set(gb_model, gb_cols4)\n",
    "# print gb_score\n",
    "# print gb_score1\n",
    "# print gb_score2\n",
    "# print gb_score3\n",
    "# print gb_score4\n",
    "scoring_on_validation_set(gb_model, gb_cols)"
   ]
  },
  {
   "cell_type": "code",
   "execution_count": null,
   "metadata": {
    "collapsed": false
   },
   "outputs": [],
   "source": [
    "rf_pred = predict_on_test_set(rf_model, rf_cols)\n",
    "gb_pred = predict_on_test_set(gb_model, gb_cols)\n",
    "\n",
    "a = [0.2*rf_pred+0.8*gb_pred,0.8*rf_pred+0.2*gb_pred] \n",
    "y_pred = np.round(rf_pred)\n",
    "\n",
    "df_test['Prediction'] = y_pred\n",
    "# result = df_test[['dteday', 'Prediction']].copy()\n",
    "# result.to_csv('C:\\Users/Administrator/Desktop/Kaggle/data/output/submit_new.csv', index=False)"
   ]
  },
  {
   "cell_type": "code",
   "execution_count": null,
   "metadata": {
    "collapsed": true
   },
   "outputs": [],
   "source": []
  },
  {
   "cell_type": "code",
   "execution_count": null,
   "metadata": {
    "collapsed": true
   },
   "outputs": [],
   "source": []
  },
  {
   "cell_type": "code",
   "execution_count": null,
   "metadata": {
    "collapsed": true
   },
   "outputs": [],
   "source": []
  },
  {
   "cell_type": "code",
   "execution_count": null,
   "metadata": {
    "collapsed": true
   },
   "outputs": [],
   "source": []
  }
 ],
 "metadata": {
  "kernelspec": {
   "display_name": "Python 2",
   "language": "python",
   "name": "python2"
  },
  "language_info": {
   "codemirror_mode": {
    "name": "ipython",
    "version": 2
   },
   "file_extension": ".py",
   "mimetype": "text/x-python",
   "name": "python",
   "nbconvert_exporter": "python",
   "pygments_lexer": "ipython2",
   "version": "2.7.12"
  }
 },
 "nbformat": 4,
 "nbformat_minor": 1
}
