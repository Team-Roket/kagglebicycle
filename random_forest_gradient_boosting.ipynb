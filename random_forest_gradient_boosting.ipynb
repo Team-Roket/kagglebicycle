{
 "cells": [
  {
   "cell_type": "code",
   "execution_count": 1,
   "metadata": {
    "collapsed": false
   },
   "outputs": [
    {
     "name": "stdout",
     "output_type": "stream",
     "text": [
      "Populating the interactive namespace from numpy and matplotlib\n"
     ]
    }
   ],
   "source": [
    "# Importing libraries\n",
    "%pylab inline"
   ]
  },
  {
   "cell_type": "code",
   "execution_count": 2,
   "metadata": {
    "collapsed": false
   },
   "outputs": [],
   "source": [
    "import pandas as pd\n",
    "import numpy as np\n",
    "from sklearn.ensemble import RandomForestRegressor, GradientBoostingRegressor"
   ]
  },
  {
   "cell_type": "code",
   "execution_count": 3,
   "metadata": {
    "collapsed": false
   },
   "outputs": [],
   "source": [
    "# read data, combine train and test data,separate time information\n",
    "dfs = {}\n",
    "for name in ['train', 'test']:\n",
    "    df = pd.read_csv('C:\\Users/Administrator/Desktop/Kaggle/data/%s.csv' % name)\n",
    "    df['_data'] = name\n",
    "    dfs[name] = df\n",
    "\n",
    "df = dfs['train'].append(dfs['test'])\n",
    "\n",
    "dt = pd.DatetimeIndex(df['dteday'])\n",
    "df['day'] = dt.day\n",
    "df['dow'] = dt.dayofweek\n",
    "df['woy'] = dt.weekofyear"
   ]
  },
  {
   "cell_type": "code",
   "execution_count": 4,
   "metadata": {
    "collapsed": false
   },
   "outputs": [],
   "source": [
    "# logarithmic transformation to do error calculation\n",
    "df['cnt_log'] = np.log(df['cnt'] + 1)\n",
    "\n",
    "# add a by_season_all column which represents all renting bikes by season\n",
    "by_season = df[df['_data'] == 'train'].groupby('season')[['cnt']].agg(sum)\n",
    "by_season.columns = ['by_season_all']\n",
    "df = df.join(by_season, on='season')"
   ]
  },
  {
   "cell_type": "code",
   "execution_count": 5,
   "metadata": {
    "collapsed": false
   },
   "outputs": [],
   "source": [
    "# add another feature discussed before, it shows peaks of bike-renting number\n",
    "df['peak'] = df[['hr', 'workingday']].apply(lambda x: (0, 1)[(x['workingday'] == 1 and  ( x['hr'] == 8 or 17 <= x['hr'] <= 18 or 12 <= x['hr'] <= 12)) or (x['workingday'] == 0 and  10 <= x['hr'] <= 19)], axis = 1)\n",
    "\n",
    "# add features to show special climate, this idea is from a blog \n",
    "df['ideal'] = df[['temp', 'windspeed']].apply(lambda x: (0, 1)[x['temp'] > 0.6 and x['windspeed'] < 0.44778], axis = 1)\n",
    "df['wet'] = df[['hum', 'workingday']].apply(lambda x: (0, 1)[x['workingday'] == 1 and x['hum'] >= 0.6], axis = 1)"
   ]
  },
  {
   "cell_type": "code",
   "execution_count": 13,
   "metadata": {
    "collapsed": true
   },
   "outputs": [],
   "source": [
    "def get_data():\n",
    "    data = df[df['_data'] == 'train'].copy()\n",
    "    return data\n",
    "\n",
    "def get_error(y_pred, y_actual):\n",
    "    difference = np.log(y_pred + 1) - np.log(y_actual + 1)\n",
    "    mean_error = np.square(difference).mean()\n",
    "    return np.sqrt(mean_error)\n",
    "\n",
    "def get_feature_and_result(data, input_cols):\n",
    "    X = data[input_cols].as_matrix()\n",
    "    y = data['cnt_log'].as_matrix()\n",
    "    return X, y\n",
    "def train_test_split(data):\n",
    "    train = data[data['day'] <= 14]\n",
    "    test = data[data['day'] > 14 ]\n",
    "    return train, test\n",
    "\n",
    "# similar functions have been given during the lab\n",
    "def predict_on_validation_set(model, input_cols):\n",
    "    data = get_data()\n",
    "    train, test = train_test_split(data)\n",
    "    X_train, y_train = get_feature_and_result(train, input_cols)\n",
    "    X_test, y_test = get_feature_and_result(test, input_cols)\n",
    "    my_model = model.fit(X_train, y_train)\n",
    "    y_pred = np.exp(my_model.predict(X_test))-1\n",
    "    y_pred_last = np.round(y_pred)\n",
    "    y_pred_last[y_pred_last < 0] = 0\n",
    "    y_test_last = np.exp(y_test)-1\n",
    "    score = get_error(y_pred_last, y_test_last)\n",
    "    return (y_pred_last, y_test_last, score)\n",
    "\n",
    "df_test = df[df['_data'] == 'test'].copy()\n",
    "\n",
    "def predict_on_test_set(model, input_cols):\n",
    "    df_train = df[df['_data'] == 'train'].copy()\n",
    "    X_train = df_train[input_cols].as_matrix()\n",
    "    y_train = df_train['cnt_log'].as_matrix()\n",
    "    X_test = df_test[input_cols].as_matrix()\n",
    "    my_model = model.fit(X_train, y_train)\n",
    "    y_pred = my_model.predict(X_test)\n",
    "    y_pred = np.exp(y_pred)-1\n",
    "    return y_pred\n"
   ]
  },
  {
   "cell_type": "code",
   "execution_count": 14,
   "metadata": {
    "collapsed": false
   },
   "outputs": [
    {
     "name": "stdout",
     "output_type": "stream",
     "text": [
      "0.174097559065\n",
      "0.220066803331\n"
     ]
    }
   ],
   "source": [
    "# do a random forest regression\n",
    "parameters = {'n_estimators': 1000, 'max_depth': 15, 'random_state': 0, 'min_samples_split' : 5, 'n_jobs': -1}\n",
    "rf_model = RandomForestRegressor(**parameters)\n",
    "\n",
    "rf_cols = [\n",
    "    'weathersit', 'temp', 'wet', 'ideal', \n",
    "    'holiday', 'workingday', 'season', \n",
    "    'hr', 'dow', 'yr','mnth','woy'\n",
    "]\n",
    "\n",
    "rf_cols1 = [\n",
    "    'weathersit', 'temp', 'atemp', 'windspeed',\n",
    "    'workingday', 'season', 'holiday', 'wet',\n",
    "    'hr', 'dow', 'woy', 'peak'\n",
    "]\n",
    "\n",
    "(rf_p, rf_t, rf_score) = predict_on_validation_set(rf_model, rf_cols)\n",
    "(rf_p, rf_t, rf_score1) = predict_on_validation_set(rf_model, rf_cols1)\n",
    "print rf_score\n",
    "print rf_score1\n"
   ]
  },
  {
   "cell_type": "code",
   "execution_count": 15,
   "metadata": {
    "collapsed": false
   },
   "outputs": [
    {
     "name": "stdout",
     "output_type": "stream",
     "text": [
      "0.246850236144\n",
      "0.249735333971\n"
     ]
    }
   ],
   "source": [
    "# do a gradient boosting regression\n",
    "parameters = {'n_estimators': 150, 'max_depth': 5, 'random_state': 0, 'min_samples_leaf' : 10, 'learning_rate': 0.1, 'subsample': 0.7, 'loss': 'ls'}\n",
    "gb_model = GradientBoostingRegressor(**parameters)\n",
    "gb_cols = [\n",
    "    'weathersit', 'temp', 'windspeed', 'wet',\n",
    "    'holiday', 'workingday', \n",
    "    'hr', 'dow', 'yr', 'ideal', 'by_season_all','mnth','woy'\n",
    "    ]\n",
    "\n",
    "gb_cols1 = [\n",
    "    'weathersit', 'temp', 'atemp', 'hum', 'windspeed',\n",
    "    'holiday', 'workingday', 'season',\n",
    "    'hr', 'dow', 'yr', 'ideal', 'by_season_all',\n",
    "]\n",
    "\n",
    "(gb_p, gb_t, gb_score) = predict_on_validation_set(gb_model, gb_cols)\n",
    "(gb_p, gb_t, gb_score1) = predict_on_validation_set(gb_model, gb_cols1)\n",
    "print gb_score\n",
    "print gb_score1"
   ]
  },
  {
   "cell_type": "code",
   "execution_count": 16,
   "metadata": {
    "collapsed": false
   },
   "outputs": [],
   "source": [
    "rf_pred = predict_on_test_set(rf_model, rf_cols)\n",
    "gb_pred = predict_on_test_set(gb_model, gb_cols)\n",
    "\n",
    "a = [0.2*rf_pred+0.8*gb_pred,0.8*rf_pred+0.2*gb_pred] \n",
    "y_pred = np.round(rf_pred)\n",
    "\n",
    "df_test['Prediction'] = y_pred\n",
    "result = df_test[['dteday', 'Prediction']].copy()\n",
    "result.to_csv('C:\\Users/Administrator/Desktop/Kaggle/data/output/submit_new.csv', index=False)"
   ]
  },
  {
   "cell_type": "code",
   "execution_count": null,
   "metadata": {
    "collapsed": true
   },
   "outputs": [],
   "source": []
  }
 ],
 "metadata": {
  "kernelspec": {
   "display_name": "Python [Root]",
   "language": "python",
   "name": "Python [Root]"
  },
  "language_info": {
   "codemirror_mode": {
    "name": "ipython",
    "version": 2
   },
   "file_extension": ".py",
   "mimetype": "text/x-python",
   "name": "python",
   "nbconvert_exporter": "python",
   "pygments_lexer": "ipython2",
   "version": "2.7.12"
  }
 },
 "nbformat": 4,
 "nbformat_minor": 1
}
