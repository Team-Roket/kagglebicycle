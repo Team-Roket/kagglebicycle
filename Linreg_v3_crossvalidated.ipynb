{
 "cells": [
  {
   "cell_type": "code",
   "execution_count": 1,
   "metadata": {
    "collapsed": false
   },
   "outputs": [
    {
     "name": "stdout",
     "output_type": "stream",
     "text": [
      "Populating the interactive namespace from numpy and matplotlib\n"
     ]
    }
   ],
   "source": [
    "# Importing libraries\n",
    "import numpy as np\n",
    "%pylab inline"
   ]
  },
  {
   "cell_type": "code",
   "execution_count": 2,
   "metadata": {
    "collapsed": true
   },
   "outputs": [],
   "source": [
    "# Load the data... we skip the date format (column 1) because it doesn't work. \n",
    "# Wen Jun, do you have any idea to work it?\n",
    "X = np.loadtxt('Data/train.csv',  delimiter=',', skiprows=1, usecols=range(2, 14))\n",
    "y = np.loadtxt('Data/train.csv', delimiter=',', skiprows=1, usecols=[14])\n",
    "\n",
    "final_test = np.loadtxt('Data/test.csv', delimiter=',', skiprows=1, usecols=range(2, 14))"
   ]
  },
  {
   "cell_type": "code",
   "execution_count": 22,
   "metadata": {
    "collapsed": false
   },
   "outputs": [],
   "source": [
    "from sklearn import linear_model, preprocessing, grid_search, cross_validation"
   ]
  },
  {
   "cell_type": "markdown",
   "metadata": {},
   "source": [
    "# Scoring in linear regression\n",
    "The `classifier.score(data, res)` in linear regression gives us the R-squared value of our model. It is a statistical measure of how close the data are to the fitted regression line. We get a min score of 0 and a max score of 1. Note that negative values are also possible, which means that we have made our prediction arbitrarily worse. There are two primary methods in `scikit` to score our model, `cross_val_score` and `cross_val_predict`"
   ]
  },
  {
   "cell_type": "markdown",
   "metadata": {},
   "source": [
    "###  `cross_val_score`\n",
    "As mentioned earlier, this gives us the `score` of the model. In this linear regression case, it gives us the R-squared value"
   ]
  },
  {
   "cell_type": "code",
   "execution_count": 66,
   "metadata": {
    "collapsed": false
   },
   "outputs": [
    {
     "name": "stdout",
     "output_type": "stream",
     "text": [
      "Score: 0.390734099466\n"
     ]
    }
   ],
   "source": [
    "\"\"\"\n",
    "Quick sampling: Sample a training set while holding out 40% of the training data for testing our classifier\n",
    "We set random_state=0 so that it is seeded (always give us the same result)\n",
    "\"\"\"\n",
    "X_train, X_test, y_train, y_test = cross_validation.train_test_split(X, y, test_size=0.4, random_state=0)\n",
    "regr = linear_model.LinearRegression()\n",
    "regr.fit(X_train, y_train)\n",
    "print(\"Score: \" + str(regr.score(X_test,y_test)))"
   ]
  },
  {
   "cell_type": "code",
   "execution_count": 122,
   "metadata": {
    "collapsed": false
   },
   "outputs": [
    {
     "name": "stdout",
     "output_type": "stream",
     "text": [
      "R2 Scores: [-0.05972078  0.34338421  0.19078434  0.29508999  0.28601194]\n",
      "Accuracy: 0.21 (+/- 0.29)\n"
     ]
    }
   ],
   "source": [
    "# Cross validation, folds = 5, KFolds (Fixed fold arrangements)\n",
    "regr = linear_model.LinearRegression()\n",
    "\n",
    "scores = cross_validation.cross_val_score(regr, X, y, cv=5)\n",
    "print(\"R2 Scores: \" + str(scores))\n",
    "\n",
    "# The mean score and the 95% confidence interval of the score estimate are hence given by:\n",
    "print(\"Accuracy: %0.2f (+/- %0.2f)\" % (scores.mean(), scores.std() * 2))"
   ]
  },
  {
   "cell_type": "code",
   "execution_count": 120,
   "metadata": {
    "collapsed": false
   },
   "outputs": [
    {
     "name": "stdout",
     "output_type": "stream",
     "text": [
      "R2 Scores: [ 0.3907341   0.40672253  0.38162444  0.38723666  0.4015015 ]\n",
      "Accuracy: 0.39 (+/- 0.02)\n"
     ]
    }
   ],
   "source": [
    "# Cross validation, folds = 5, ShuffleSplit (Shuffled fold arrangements)\n",
    "regr = linear_model.LinearRegression()\n",
    "\n",
    "cv = cross_validation.ShuffleSplit(n=10886,n_iter=5, test_size=0.4, random_state=0)\n",
    "scores_shuffle = cross_validation.cross_val_score(regr, X, y, cv=cv)\n",
    "print(\"R2 Scores: \" + str(scores_shuffle))\n",
    "\n",
    "# The mean score and the 95% confidence interval of the score estimate are hence given by:\n",
    "print(\"Accuracy: %0.2f (+/- %0.2f)\" % (scores_shuffle.mean(), scores_shuffle.std() * 2))"
   ]
  },
  {
   "cell_type": "markdown",
   "metadata": {},
   "source": [
    "### `cross_val_predict`\n",
    "The function `cross_val_predict` has a similar interface to `cross_val_score`, but returns, for each element in the input, the prediction that was obtained for that element when it was in the test set (y_pred). Only cross-validation strategies that assign all elements to a test set exactly once can be used. Different scores may be produced because of the fold permutations. We also note that it only works for partitions (i.e. we can take indexes [1,2,3,4,5] but not [1,2,4,6,10]) "
   ]
  },
  {
   "cell_type": "code",
   "execution_count": 121,
   "metadata": {
    "collapsed": false
   },
   "outputs": [
    {
     "name": "stdout",
     "output_type": "stream",
     "text": [
      "R2 Score: 0.357716320481\n"
     ]
    }
   ],
   "source": [
    "from sklearn import metrics\n",
    "\n",
    "# Cross validation, folds = 5, KFolds (Fixed fold arrangements)\n",
    "regr = linear_model.LinearRegression()\n",
    "\n",
    "y_pred = cross_validation.cross_val_predict(regr, X, y, cv=5)\n",
    "print(\"R2 Score: \" + str(metrics.r2_score(y,y_pred)))"
   ]
  },
  {
   "cell_type": "markdown",
   "metadata": {},
   "source": [
    "### Results?\n",
    "Linear Regression does suck. R-squared values are only 40% optimal at best (60% deviation is huge) and this is obtained through *ShuffleSplit* cross validation. "
   ]
  },
  {
   "cell_type": "code",
   "execution_count": null,
   "metadata": {
    "collapsed": true
   },
   "outputs": [],
   "source": []
  }
 ],
 "metadata": {
  "kernelspec": {
   "display_name": "Python 2",
   "language": "python",
   "name": "python2"
  },
  "language_info": {
   "codemirror_mode": {
    "name": "ipython",
    "version": 2
   },
   "file_extension": ".py",
   "mimetype": "text/x-python",
   "name": "python",
   "nbconvert_exporter": "python",
   "pygments_lexer": "ipython2",
   "version": "2.7.12"
  }
 },
 "nbformat": 4,
 "nbformat_minor": 1
}
