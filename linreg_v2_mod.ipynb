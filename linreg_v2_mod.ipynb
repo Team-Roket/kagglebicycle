{
 "cells": [
  {
   "cell_type": "code",
   "execution_count": 30,
   "metadata": {
    "collapsed": false
   },
   "outputs": [
    {
     "name": "stdout",
     "output_type": "stream",
     "text": [
      "Populating the interactive namespace from numpy and matplotlib\n"
     ]
    }
   ],
   "source": [
    "# Importing libraries\n",
    "import numpy as np\n",
    "%pylab inline"
   ]
  },
  {
   "cell_type": "code",
   "execution_count": 31,
   "metadata": {
    "collapsed": false
   },
   "outputs": [
    {
     "data": {
      "text/plain": [
       "'Split class lables into intervals of 10 to experiment stratified fold cross-validation?'"
      ]
     },
     "execution_count": 31,
     "metadata": {},
     "output_type": "execute_result"
    }
   ],
   "source": [
    "from sklearn import cross_validation\n",
    "\n",
    "# Load data. Skip column 1 because date format skip the date format (column 1) because it doesn't work\n",
    "\n",
    "# X = np.loadtxt('Data/train.csv',  delimiter=',', skiprows=1, usecols=range(2, 14))\n",
    "# y = np.loadtxt('Data/train.csv', delimiter=',', skiprows=1, usecols=[14])\n",
    "# finaltestX = np.loadtxt('Data/test.csv', delimiter=',', skiprows=1, usecols=range(2,14))\n",
    "\n",
    "# Removed variable 'atemp' for possibly excessive overlap of features (gives slightly better results)\n",
    "X = np.loadtxt('Data/train_noatemp.csv',  delimiter=',', skiprows=1, usecols=range(2, 13))\n",
    "y = np.loadtxt('Data/train_noatemp.csv', delimiter=',', skiprows=1, usecols=[13])\n",
    "X_kaggle = np.loadtxt('Data/test.csv', delimiter=',', skiprows=1, usecols=range(2,13))\n",
    "\n",
    "\"\"\"Split class lables into intervals of 10 to experiment stratified fold cross-validation?\"\"\"\n",
    "# Still doesn't work; not enough samples for each interval\n",
    "\n",
    "# j = 0\n",
    "# k = 0\n",
    "# for j in range(100):       # Record no. of bicycles was 977\n",
    "#     for i in range(len(y)):\n",
    "#         if j*10 <= y[i] <= (j+1)*10:\n",
    "#             y[i] = j*10 + 10\n",
    "# folds = cross_validation.StratifiedKFold(y, n_folds=10, shuffle=True)\n",
    "# print(folds)"
   ]
  },
  {
   "cell_type": "code",
   "execution_count": 34,
   "metadata": {
    "collapsed": false,
    "scrolled": true
   },
   "outputs": [
    {
     "name": "stdout",
     "output_type": "stream",
     "text": [
      "LINEAR REGRESSION - CROSS VALIDATION ON TRAINING DATA SET:\n",
      "\n",
      "train1: [    0     1     2 ..., 10882 10884 10885] test1: [    9    12    14 ..., 10843 10877 10883]\n",
      "shapes1: (9797,) (1089,)\n",
      "train2: [    0     1     2 ..., 10882 10883 10884] test2: [   18    19    26 ..., 10856 10869 10885]\n",
      "shapes2: (9797,) (1089,)\n",
      "train3: [    0     1     2 ..., 10883 10884 10885] test3: [    5     8    24 ..., 10868 10876 10882]\n",
      "shapes3: (9797,) (1089,)\n",
      "train4: [    0     1     2 ..., 10882 10883 10885] test4: [    4    11    15 ..., 10851 10852 10884]\n",
      "shapes4: (9797,) (1089,)\n",
      "train5: [    0     1     2 ..., 10883 10884 10885] test5: [   20    29    53 ..., 10835 10844 10848]\n",
      "shapes5: (9797,) (1089,)\n",
      "train6: [    1     3     4 ..., 10883 10884 10885] test6: [    0     2     6 ..., 10847 10864 10872]\n",
      "shapes6: (9797,) (1089,)\n",
      "train7: [    0     1     2 ..., 10883 10884 10885] test7: [    3    10    21 ..., 10837 10850 10853]\n",
      "shapes7: (9798,) (1088,)\n",
      "train8: [    0     1     2 ..., 10883 10884 10885] test8: [   31    32    37 ..., 10879 10880 10881]\n",
      "shapes8: (9798,) (1088,)\n",
      "train9: [    0     2     3 ..., 10883 10884 10885] test9: [    1    22    25 ..., 10871 10874 10875]\n",
      "shapes9: (9798,) (1088,)\n",
      "train10: [    0     1     2 ..., 10883 10884 10885] test10: [   23    40    47 ..., 10838 10845 10854]\n",
      "shapes10: (9798,) (1088,)\n",
      "\n",
      "Number of mislabeled points out of a total 10886 points: 10845\n",
      "Number of close points within +/-10: 761\n",
      "Number of close points within +/-20: 1438\n",
      "Number of close points within +/-30: 2102\n",
      "Number of close points within +/-40: 2797\n",
      "Number of close points within +/-50: 3461\n",
      "Number of mislabeled points out of a total 10886 points: 10846 (using average coefficients)\n",
      "Number of close points within +/-10: 759 (using average coefficients)\n",
      "Number of close points within +/-20: 1427 (using average coefficients)\n",
      "Number of close points within +/-30: 2075 (using average coefficients)\n",
      "Number of close points within +/-40: 2764 (using average coefficients)\n",
      "Number of close points within +/-50: 3438 (using average coefficients)\n",
      "\n",
      "LINEAR REGRESSION ON TEST DATA FOR SUBMISSION:\n",
      "\n",
      "coefficients: [  -7.25059143   82.8822673     9.7884728     7.82163321   -4.91613607\n",
      "    2.37689162   -0.39109185   -5.38805787  273.5140117  -199.08787932\n",
      "   30.51831524]\n",
      "pred_1: [ 46  45  53 ..., 389 393 403]\n",
      "pred_2: [ 49  47  55 ..., 391 395 404]\n"
     ]
    },
    {
     "data": {
      "text/plain": [
       "'NEXT WORK: TRY REMOVING SOME VARIABLES THAT HAVE VERY SMALL COEFFICIENTS TO IMPROVE LINREG..\\nOR REMOVE ONES WITH EXCESSIVELY(?) LARGE NEGATIVE COEFFICIENTS'"
      ]
     },
     "execution_count": 34,
     "metadata": {},
     "output_type": "execute_result"
    }
   ],
   "source": [
    "# split data for cross-validation\n",
    "\n",
    "from sklearn.cross_validation import KFold\n",
    "from sklearn import linear_model\n",
    "\n",
    "number_of_folds = 10\n",
    "kfolds = KFold(n=len(X), n_folds = number_of_folds, shuffle=True)\n",
    "\n",
    "print(\"LINEAR REGRESSION - CROSS VALIDATION ON TRAINING DATA SET:\\n\")\n",
    "\n",
    "# checking performance on training data (linreg + cross validation)\n",
    "def cross_validate(design_matrix, labels, classifier, cv_folds):\n",
    "    pred = np.zeros(labels.shape)             \n",
    "    coeff = np.zeros((number_of_folds, X.shape[1]))    \n",
    "    # store trained linreg coefficients\n",
    "    classifier.fit(design_matrix, labels)            \n",
    "\n",
    "    foldcount = 1\n",
    "    for tr, te in cv_folds:\n",
    "        print('train%d:' % foldcount, tr, 'test%d:' % foldcount, te)\n",
    "        print('shapes%d:' % foldcount, tr.shape, te.shape)\n",
    "\n",
    "        classifier.fit(design_matrix[tr], labels[tr])             \n",
    "        pred[te] = classifier.predict(design_matrix[te])    \n",
    "        pred[te] = pred[te].astype(int)                            # convert predictions to integers\n",
    "        #print('pred%d:' % foldcount, pred[te])\n",
    "        coeff[foldcount-1] = classifier.coef_\n",
    "        #print('coefficients%d:' % foldcount, classifier.coef_)\n",
    "        foldcount += 1\n",
    "    return pred, coeff\n",
    "\n",
    "lr = linear_model.LinearRegression()          # initiate model object\n",
    "result = cross_validate(X, y, lr, kfolds)\n",
    "#print(result[0], result[1])\n",
    "\n",
    "result1 = result[0]\n",
    "\n",
    "coefficients = result[1]                      # extract the coefficient matrix\n",
    "coeff_mean = np.mean(coefficients, axis=0)    # get average for each column\n",
    "#print(coeff_mean)\n",
    "\n",
    "# make a second round of predictions using the average coefficients\n",
    "result2 = (X*coeff_mean).astype(int)\n",
    "result2 = np.sum(result2, axis=1)\n",
    "#print(result2)\n",
    "\n",
    "# compute the number of incorrect results\n",
    "print(\"\\nNumber of mislabeled points out of a total %d points: %d\" % (X.shape[0], (y != result1).sum()))\n",
    "close = 1\n",
    "for nn in range(5):           # test how close is the result up to +/- 50\n",
    "    neighbor = close*10\n",
    "    print(\"Number of close points within +/-%d: %d\" % (neighbor, ((y >= result1-neighbor) & (y <= result1+neighbor)).sum()))\n",
    "    close += 1\n",
    "\n",
    "print(\"Number of mislabeled points out of a total %d points: %d (using average coefficients)\" % \\\n",
    "      (X.shape[0], (y != result2).sum()))\n",
    "\n",
    "close = 1\n",
    "for nn in range(5):         \n",
    "    neighbor = close*10\n",
    "    print(\"Number of close points within +/-%d: %d (using average coefficients)\" % \\\n",
    "          (neighbor, ((y >= result2-neighbor) & (y <= result2+neighbor)).sum()))\n",
    "    close += 1\n",
    "\n",
    "\"\"\"Conclusion: Linear regression sucks?\"\"\"\n",
    "\n",
    "print(\"\\nLINEAR REGRESSION ON TEST DATA FOR SUBMISSION:\\n\")\n",
    "# for submission to Kaggle\n",
    "lr_1 = linear_model.LinearRegression()          # initiate model object\n",
    "lr_1.fit(X, y)\n",
    "pred_1 = lr_1.predict(X_kaggle)\n",
    "pred_1 = pred_1.astype(int)\n",
    "print('coefficients:', lr_1.coef_)\n",
    "print('pred_1:', pred_1)\n",
    "# alternatively, use the coefficients to make prediction\n",
    "# Note: lr_1.coef_ is almost the same as coeff_mean obtained previously)\n",
    "pred_2 = (X_kaggle*lr_1.coef_).astype(int)\n",
    "pred_2 = np.sum(pred_2, axis=1)\n",
    "print('pred_2:', pred_2)\n",
    "\n",
    "# np.savetxt('Data/linreg_mod1.csv', pred_1, delimiter=',')\n",
    "# np.savetxt('Data/linreg_mod2.csv', pred_2, delimiter=',')\n",
    "\n",
    "\"\"\"NEXT WORK: TRY REMOVING SOME VARIABLES THAT HAVE VERY SMALL COEFFICIENTS TO IMPROVE LINREG..\n",
    "OR REMOVE ONES WITH EXCESSIVELY(?) LARGE NEGATIVE COEFFICIENTS\"\"\"\n"
   ]
  },
  {
   "cell_type": "code",
   "execution_count": null,
   "metadata": {
    "collapsed": true
   },
   "outputs": [],
   "source": []
  },
  {
   "cell_type": "code",
   "execution_count": null,
   "metadata": {
    "collapsed": true
   },
   "outputs": [],
   "source": []
  }
 ],
 "metadata": {
  "anaconda-cloud": {},
  "kernelspec": {
   "display_name": "Python [conda root]",
   "language": "python",
   "name": "conda-root-py"
  },
  "language_info": {
   "codemirror_mode": {
    "name": "ipython",
    "version": 3
   },
   "file_extension": ".py",
   "mimetype": "text/x-python",
   "name": "python",
   "nbconvert_exporter": "python",
   "pygments_lexer": "ipython3",
   "version": "3.5.2"
  }
 },
 "nbformat": 4,
 "nbformat_minor": 1
}
