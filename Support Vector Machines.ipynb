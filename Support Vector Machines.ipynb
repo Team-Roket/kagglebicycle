{
 "cells": [
  {
   "cell_type": "code",
   "execution_count": 1,
   "metadata": {
    "collapsed": false
   },
   "outputs": [
    {
     "name": "stdout",
     "output_type": "stream",
     "text": [
      "Populating the interactive namespace from numpy and matplotlib\n"
     ]
    }
   ],
   "source": [
    "# Importing libraries\n",
    "%pylab inline"
   ]
  },
  {
   "cell_type": "code",
   "execution_count": 8,
   "metadata": {
    "collapsed": true
   },
   "outputs": [],
   "source": [
    "import pandas as pd\n",
    "import numpy as np\n",
    "from sklearn import svm"
   ]
  },
  {
   "cell_type": "code",
   "execution_count": 3,
   "metadata": {
    "collapsed": true
   },
   "outputs": [],
   "source": [
    "# read data, combine train and test data,separate time information\n",
    "dfs = {}\n",
    "for name in ['train', 'test']:\n",
    "#     df = pd.read_csv('C:\\Users/Administrator/Desktop/Kaggle/data/%s.csv' % name)\n",
    "    df = pd.read_csv('Data/%s.csv' %name)\n",
    "    df['_data'] = name\n",
    "    dfs[name] = df\n",
    "\n",
    "df = dfs['train'].append(dfs['test'])\n",
    "\n",
    "dt = pd.DatetimeIndex(df['dteday'])\n",
    "df['day'] = dt.day\n",
    "df['dow'] = dt.dayofweek\n",
    "df['woy'] = dt.weekofyear"
   ]
  },
  {
   "cell_type": "code",
   "execution_count": 4,
   "metadata": {
    "collapsed": true
   },
   "outputs": [],
   "source": [
    "# logarithmic transformation to do error calculation\n",
    "df['cnt_log'] = np.log(df['cnt'] + 1)\n",
    "\n",
    "# add a by_season_all column which represents all renting bikes by season\n",
    "by_season = df[df['_data'] == 'train'].groupby('season')[['cnt']].agg(sum)\n",
    "by_season.columns = ['by_season_all']\n",
    "df = df.join(by_season, on='season')"
   ]
  },
  {
   "cell_type": "code",
   "execution_count": 5,
   "metadata": {
    "collapsed": true
   },
   "outputs": [],
   "source": [
    "# add another feature discussed before, it shows peaks of bike-renting number\n",
    "df['peak'] = df[['hr', 'workingday']].apply(lambda x: (0, 1)[(x['workingday'] == 1 and  ( x['hr'] == 8 or 17 <= x['hr'] <= 18 or 12 <= x['hr'] <= 12)) or (x['workingday'] == 0 and  10 <= x['hr'] <= 19)], axis = 1)\n",
    "\n",
    "# add features to show special climate, this idea is from a blog \n",
    "df['ideal'] = df[['temp', 'windspeed']].apply(lambda x: (0, 1)[x['temp'] > 0.6 and x['windspeed'] < 0.44778], axis = 1)\n",
    "df['wet'] = df[['hum', 'workingday']].apply(lambda x: (0, 1)[x['workingday'] == 1 and x['hum'] >= 0.6], axis = 1)\n",
    "\n",
    "## OKAY WEATHER DOES NOT WORK\n",
    "# test for mutual exclusiveness for weathersit\n",
    "df['w1'] = df[['weathersit']].apply(lambda x: (0,1)[x['weathersit'] == 1],axis = 1)\n",
    "df['w2'] = df[['weathersit']].apply(lambda x: (0,1)[x['weathersit'] == 2],axis = 1)\n",
    "df['w3'] = df[['weathersit']].apply(lambda x: (0,1)[x['weathersit'] == 3],axis = 1)\n",
    "df['w4'] = df[['weathersit']].apply(lambda x: (0,1)[x['weathersit'] == 4],axis = 1)\n",
    "\n",
    "## OKAY SEASONS DO NOT WORK EITHER\n",
    "# test for mutual exclusiveness for seasons\n",
    "df['s1'] = df[['season']].apply(lambda x: (0,1)[x['season'] == 1],axis = 1)\n",
    "df['s2'] = df[['season']].apply(lambda x: (0,1)[x['season'] == 2],axis = 1)\n",
    "df['s3'] = df[['season']].apply(lambda x: (0,1)[x['season'] == 3],axis = 1)\n",
    "df['s4'] = df[['season']].apply(lambda x: (0,1)[x['season'] == 4],axis = 1)"
   ]
  },
  {
   "cell_type": "code",
   "execution_count": 7,
   "metadata": {
    "collapsed": true
   },
   "outputs": [],
   "source": [
    "def get_data():\n",
    "    data = df[df['_data'] == 'train'].copy()\n",
    "    return data\n",
    "\n",
    "def get_error(y_pred, y_actual):\n",
    "    difference = np.log(y_pred + 1) - np.log(y_actual + 1)\n",
    "    mean_error = np.square(difference).mean()\n",
    "    return np.sqrt(mean_error)\n",
    "\n",
    "def get_feature_and_result(data, input_cols):\n",
    "    X = data[input_cols].as_matrix()\n",
    "    y = data['cnt_log'].as_matrix()\n",
    "    return X, y\n",
    "def train_test_split(data):\n",
    "    train = data[data['day'] <= 14]\n",
    "    test = data[data['day'] > 14 ]\n",
    "    return train, test\n",
    "\n",
    "# similar functions have been given during the lab\n",
    "def predict_on_validation_set(model, input_cols):\n",
    "    data = get_data()\n",
    "    train, test = train_test_split(data)\n",
    "    X_train, y_train = get_feature_and_result(train, input_cols)\n",
    "    X_test, y_test = get_feature_and_result(test, input_cols)\n",
    "    my_model = model.fit(X_train, y_train)\n",
    "    y_pred = np.exp(my_model.predict(X_test))-1\n",
    "    y_pred_last = np.round(y_pred)\n",
    "    y_pred_last[y_pred_last < 0] = 0\n",
    "    y_test_last = np.exp(y_test)-1\n",
    "    score = get_error(y_pred_last, y_test_last)\n",
    "    return (y_pred_last, y_test_last, score)\n",
    "\n",
    "df_test = df[df['_data'] == 'test'].copy()\n",
    "\n",
    "def predict_on_test_set(model, input_cols):\n",
    "    df_train = df[df['_data'] == 'train'].copy()\n",
    "    X_train = df_train[input_cols].as_matrix()\n",
    "    y_train = df_train['cnt_log'].as_matrix()\n",
    "    X_test = df_test[input_cols].as_matrix()\n",
    "    my_model = model.fit(X_train, y_train)\n",
    "    y_pred = my_model.predict(X_test)\n",
    "    y_pred = np.exp(y_pred)-1\n",
    "    return y_pred\n",
    "\n",
    "def scoring_on_validation_set(model, input_cols):\n",
    "    pred = []\n",
    "    data = get_data()\n",
    "    train, test = train_test_split(data)\n",
    "    \n",
    "    X_train, y_train = get_feature_and_result(train, input_cols)\n",
    "    X_test, y_test = get_feature_and_result(test, input_cols)\n",
    "#     my_model = model.fit(X_train, y_train)\n",
    "    \n",
    "    cv = cross_validation.ShuffleSplit(n=len(train),n_iter=10, random_state=0)\n",
    "    scores_shuffle = np.abs(cross_validation.cross_val_score(model, X_train, y_train, cv=cv))\n",
    "    scores_shuffle_MAE = np.abs(cross_validation.cross_val_score(model, X_train, y_train, cv=cv, scoring = 'mean_absolute_error'))\n",
    "    scores_shuffle_MSE = np.abs(cross_validation.cross_val_score(model, X_train, y_train, cv=cv, scoring = 'mean_squared_error'))\n",
    "    scores_shuffle_MedianAE = np.abs(cross_validation.cross_val_score(model, X_train, y_train, cv=cv, scoring = 'median_absolute_error'))\n",
    "\n",
    "    print(\"R2 Accuracy: %0.2f (+/- %0.2f)\" % (scores_shuffle.mean(), scores_shuffle.std() * 2))\n",
    "    print(\"MAE Accuracy: %0.2f (+/- %0.2f)\" % (scores_shuffle_MAE.mean(), scores_shuffle_MAE.std() * 2))\n",
    "    print(\"MSE Accuracy: %0.2f (+/- %0.2f)\" % (scores_shuffle_MSE.mean(), scores_shuffle_MSE.std() * 2))\n",
    "    print(\"MedianAE Accuracy: %0.2f (+/- %0.2f)\" % (scores_shuffle_MedianAE.mean(), scores_shuffle_MedianAE.std() * 2))\n"
   ]
  },
  {
   "cell_type": "code",
   "execution_count": 26,
   "metadata": {
    "collapsed": false
   },
   "outputs": [
    {
     "name": "stdout",
     "output_type": "stream",
     "text": [
      "R2 Accuracy: 0.46 (+/- 0.04)\n",
      "MAE Accuracy: 0.83 (+/- 0.04)\n",
      "MSE Accuracy: 1.13 (+/- 0.10)\n",
      "MedianAE Accuracy: 0.66 (+/- 0.05)\n",
      "None\n",
      "R2 Accuracy: 0.55 (+/- 0.02)\n",
      "MAE Accuracy: 0.75 (+/- 0.03)\n",
      "MSE Accuracy: 0.93 (+/- 0.08)\n",
      "MedianAE Accuracy: 0.59 (+/- 0.05)\n",
      "None\n",
      "R2 Accuracy: 0.47 (+/- 0.04)\n",
      "MAE Accuracy: 0.82 (+/- 0.03)\n",
      "MSE Accuracy: 1.10 (+/- 0.10)\n",
      "MedianAE Accuracy: 0.67 (+/- 0.05)\n",
      "None\n",
      "R2 Accuracy: 0.47 (+/- 0.04)\n",
      "MAE Accuracy: 0.82 (+/- 0.04)\n",
      "MSE Accuracy: 1.11 (+/- 0.09)\n",
      "MedianAE Accuracy: 0.64 (+/- 0.06)\n",
      "None\n",
      "R2 Accuracy: 0.48 (+/- 0.03)\n",
      "MAE Accuracy: 0.81 (+/- 0.04)\n",
      "MSE Accuracy: 1.09 (+/- 0.09)\n",
      "MedianAE Accuracy: 0.66 (+/- 0.03)\n",
      "None\n"
     ]
    }
   ],
   "source": [
    "SVM = svm.LinearSVR(C =0.08)\n",
    "svm_cols = [\n",
    "    'weathersit', 'temp', 'wet', 'ideal', \n",
    "    'holiday', 'workingday', 'season', \n",
    "    'hr', 'dow', 'yr','mnth','woy'\n",
    "]\n",
    "svm_cols1 = [\n",
    "    'weathersit', 'temp', 'atemp', 'windspeed',\n",
    "    'workingday', 'season', 'holiday', 'wet',\n",
    "    'hr', 'dow', 'woy', 'peak'\n",
    "]\n",
    "\n",
    "svm_cols2 = [\n",
    "    'w1', 'w1','w3','w4', 'temp', 'wet', 'ideal', \n",
    "    'holiday', 'workingday', 'season', \n",
    "    'hr', 'dow', 'yr','mnth','woy'\n",
    "]\n",
    "# Split seasons into 3\n",
    "svm_cols3 = [\n",
    "    'weathersit', 'temp', 'wet', 'ideal', \n",
    "    'holiday', 'workingday', 's1', 's2', 's3', 's4', \n",
    "    'hr', 'dow', 'yr','mnth','woy'\n",
    "]\n",
    "# Split both\n",
    "svm_cols4= [\n",
    "    'w1', 'w1','w3','w4', 'temp', 'wet', 'ideal', \n",
    "    'holiday', 'workingday','s1', 's2', 's3', 's4' , \n",
    "    'hr', 'dow', 'yr','mnth','woy'\n",
    "]\n",
    "\n",
    "from sklearn import linear_model, preprocessing, grid_search, cross_validation, metrics\n",
    "print(scoring_on_validation_set(SVM, svm_cols))\n",
    "print(scoring_on_validation_set(SVM, svm_cols1))\n",
    "print(scoring_on_validation_set(SVM, svm_cols2))\n",
    "print(scoring_on_validation_set(SVM, svm_cols3))\n",
    "print(scoring_on_validation_set(SVM, svm_cols4))"
   ]
  },
  {
   "cell_type": "code",
   "execution_count": 24,
   "metadata": {
    "collapsed": false
   },
   "outputs": [
    {
     "name": "stdout",
     "output_type": "stream",
     "text": [
      "{'C': 0.08}\n",
      "{'C': 0.08}\n",
      "{'C': 0.07}\n",
      "{'C': 0.1}\n",
      "{'C': 0.09}\n"
     ]
    }
   ],
   "source": [
    "param_grid = {'C': [0.01, 0.02, 0.03, 0.04, 0.05, 0.06, 0.07, 0.08, 0.09, 0.1]}\n",
    "clf = grid_search.GridSearchCV(svm.LinearSVR(), param_grid)\n",
    "\n",
    "def C(model, input_cols):\n",
    "    pred = []\n",
    "    data = get_data()\n",
    "    train, test = train_test_split(data)\n",
    "    \n",
    "    X_train, y_train = get_feature_and_result(train, input_cols)\n",
    "    X_test, y_test = get_feature_and_result(test, input_cols)\n",
    "    \n",
    "    \n",
    "    cv = cross_validation.ShuffleSplit(n=len(train),n_iter=10, random_state=0)\n",
    "\n",
    "    my_model = model.fit(X_train, y_train)\n",
    "    print(my_model.best_params_)\n",
    "    \n",
    "C(clf, svm_cols)\n",
    "C(clf, svm_cols1)\n",
    "C(clf, svm_cols2)\n",
    "C(clf, svm_cols3)\n",
    "C(clf, svm_cols4)"
   ]
  },
  {
   "cell_type": "code",
   "execution_count": 27,
   "metadata": {
    "collapsed": true
   },
   "outputs": [],
   "source": [
    "svm_pred = predict_on_test_set(SVM, svm_cols1)\n",
    "y_pred = np.round(svm_pred)\n",
    "df_test['Prediction'] = y_pred\n",
    "result = df_test[['dteday', 'Prediction']].copy()\n",
    "result.to_csv('Data/svm_submit_new.csv', index=False)"
   ]
  },
  {
   "cell_type": "code",
   "execution_count": null,
   "metadata": {
    "collapsed": true
   },
   "outputs": [],
   "source": []
  }
 ],
 "metadata": {
  "kernelspec": {
   "display_name": "Python 2",
   "language": "python",
   "name": "python2"
  },
  "language_info": {
   "codemirror_mode": {
    "name": "ipython",
    "version": 2
   },
   "file_extension": ".py",
   "mimetype": "text/x-python",
   "name": "python",
   "nbconvert_exporter": "python",
   "pygments_lexer": "ipython2",
   "version": "2.7.12"
  }
 },
 "nbformat": 4,
 "nbformat_minor": 1
}
