{
 "cells": [
  {
   "cell_type": "code",
   "execution_count": 1,
   "metadata": {
    "collapsed": false
   },
   "outputs": [
    {
     "name": "stdout",
     "output_type": "stream",
     "text": [
      "Populating the interactive namespace from numpy and matplotlib\n"
     ]
    }
   ],
   "source": [
    "# Importing libraries\n",
    "import numpy as np\n",
    "%pylab inline"
   ]
  },
  {
   "cell_type": "code",
   "execution_count": 2,
   "metadata": {
    "collapsed": false
   },
   "outputs": [],
   "source": [
    "# Load the data... we skip the date format (column 1) because it doesn't work. \n",
    "# Wen Jun, do you have any idea to work it?\n",
    "X = np.loadtxt('Data/train.csv',  delimiter=',', skiprows=1, usecols=range(2, 14))\n",
    "y = np.loadtxt('Data/train.csv', delimiter=',', skiprows=1, usecols=[14])\n",
    "\n",
    "test_X = np.loadtxt('Data/test.csv', delimiter=',', skiprows=1, usecols=range(2, 14))"
   ]
  },
  {
   "cell_type": "code",
   "execution_count": 3,
   "metadata": {
    "collapsed": false
   },
   "outputs": [
    {
     "name": "stdout",
     "output_type": "stream",
     "text": [
      "(array([ 1089,  1090,  1091, ..., 10883, 10884, 10885]), array([   0,    1,    2, ..., 1086, 1087, 1088]))\n",
      "(array([    0,     1,     2, ..., 10883, 10884, 10885]), array([1089, 1090, 1091, ..., 2175, 2176, 2177]))\n",
      "(array([    0,     1,     2, ..., 10883, 10884, 10885]), array([2178, 2179, 2180, ..., 3264, 3265, 3266]))\n",
      "(array([    0,     1,     2, ..., 10883, 10884, 10885]), array([3267, 3268, 3269, ..., 4353, 4354, 4355]))\n",
      "(array([    0,     1,     2, ..., 10883, 10884, 10885]), array([4356, 4357, 4358, ..., 5442, 5443, 5444]))\n",
      "(array([    0,     1,     2, ..., 10883, 10884, 10885]), array([5445, 5446, 5447, ..., 6531, 6532, 6533]))\n",
      "(array([    0,     1,     2, ..., 10883, 10884, 10885]), array([6534, 6535, 6536, ..., 7619, 7620, 7621]))\n",
      "(array([    0,     1,     2, ..., 10883, 10884, 10885]), array([7622, 7623, 7624, ..., 8707, 8708, 8709]))\n",
      "(array([    0,     1,     2, ..., 10883, 10884, 10885]), array([8710, 8711, 8712, ..., 9795, 9796, 9797]))\n",
      "(array([   0,    1,    2, ..., 9795, 9796, 9797]), array([ 9798,  9799,  9800, ..., 10883, 10884, 10885]))\n"
     ]
    }
   ],
   "source": [
    "# Creating linear models for training\n",
    "from sklearn.cross_validation import KFold\n",
    "kf = KFold(n=len(X),n_folds = 10)\n",
    "for tr, te in kf:\n",
    "    print(tr, te)"
   ]
  },
  {
   "cell_type": "code",
   "execution_count": 4,
   "metadata": {
    "collapsed": true
   },
   "outputs": [],
   "source": [
    "from sklearn.neighbors import KNeighborsRegressor"
   ]
  },
  {
   "cell_type": "code",
   "execution_count": 5,
   "metadata": {
    "collapsed": false
   },
   "outputs": [
    {
     "name": "stdout",
     "output_type": "stream",
     "text": [
      "[  10.    5.    3. ...,  174.  122.   75.]\n"
     ]
    }
   ],
   "source": [
    "neigh = KNeighborsRegressor(n_neighbors=5)\n",
    "neigh.fit(X, y)\n",
    "res = np.rint(np.absolute(neigh.predict(test_X)))\n",
    "np.savetxt('knn.csv', res, delimiter=',')"
   ]
  },
  {
   "cell_type": "code",
   "execution_count": null,
   "metadata": {
    "collapsed": false
   },
   "outputs": [],
   "source": []
  },
  {
   "cell_type": "code",
   "execution_count": null,
   "metadata": {
    "collapsed": false
   },
   "outputs": [],
   "source": []
  },
  {
   "cell_type": "code",
   "execution_count": null,
   "metadata": {
    "collapsed": false
   },
   "outputs": [],
   "source": []
  },
  {
   "cell_type": "code",
   "execution_count": null,
   "metadata": {
    "collapsed": true
   },
   "outputs": [],
   "source": []
  },
  {
   "cell_type": "code",
   "execution_count": null,
   "metadata": {
    "collapsed": true
   },
   "outputs": [],
   "source": []
  }
 ],
 "metadata": {
  "kernelspec": {
   "display_name": "Python [Root]",
   "language": "python",
   "name": "Python [Root]"
  },
  "language_info": {
   "codemirror_mode": {
    "name": "ipython",
    "version": 2
   },
   "file_extension": ".py",
   "mimetype": "text/x-python",
   "name": "python",
   "nbconvert_exporter": "python",
   "pygments_lexer": "ipython2",
   "version": "2.7.12"
  }
 },
 "nbformat": 4,
 "nbformat_minor": 1
}
